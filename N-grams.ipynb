{
 "cells": [
  {
   "cell_type": "code",
   "execution_count": null,
   "metadata": {},
   "outputs": [],
   "source": [
    "#Second Important Concept Under NLP\n",
    "#### N-GRAMS ############\n",
    "'''\n",
    "Probablistic Language Models\n",
    "Computing the probablity of occurance of sentence or sequence thsn the other\n",
    "conditional probablity of lastword given the previous words P(w(n)|w(1),w(2),w(3)...w(n-1))\n",
    "\n",
    "Use the chain rule P(x1,x2,x3..xn)=P(x1)P(x2|x1)P(x3|x1,X2)...\n",
    "Instead we use Markov assumption which says,\n",
    "We need to consider only the last few words,only the last or the second last or few from last\n",
    "P(w1,w2,w3..wn)approx=multiply(P(wi|w(i-k)...w(i-1)))\n",
    "\n",
    "\n",
    "-->The simplest approach towards this model is the Unigram Model where we use individual words of the corpus\n",
    "--> Bigram Model- predict using single previous word only\n",
    "\n",
    "And so on extend the Model to N-grams for long distance dependencies for larger sentences\n",
    " * for Bi-gram- count(w(i-1),w(i)) / count(w(i-1)) (which says of all the times we saw the word w(i-1) how many times  was it followed by w(i))\n",
    " \n",
    " *  For example lets consider the corpus \n",
    "    <s>I am ashutosh</s>\n",
    "    <s>ashutosh I am</s>\n",
    "    <s> i do not like green eggs and ham</s>\n",
    "    \n",
    "    P(I|<s>)=count(<s>|I)/count(<s>)=2/3(in corpus)\n",
    "    \n",
    "    P(ashutosh|<s>)=count(<s>|ashutosh)/count(<s>)=1/3 so on..\n",
    "In practice- these probablities are converted to log probablity \n",
    " p1Xp2Xp3Xp4=logp1+logp2+logp3+logp4\n",
    "\n",
    "\n",
    "Public sources for language Modellling:\n",
    " ---> SRILM-SRI langauge modeling toolkit\n",
    " --->Google N-gram \n",
    " ---->google book N-gram Corpus\n",
    "'''"
   ]
  }
 ],
 "metadata": {
  "kernelspec": {
   "display_name": "Python 3",
   "language": "python",
   "name": "python3"
  },
  "language_info": {
   "codemirror_mode": {
    "name": "ipython",
    "version": 3
   },
   "file_extension": ".py",
   "mimetype": "text/x-python",
   "name": "python",
   "nbconvert_exporter": "python",
   "pygments_lexer": "ipython3",
   "version": "3.6.3"
  }
 },
 "nbformat": 4,
 "nbformat_minor": 2
}
