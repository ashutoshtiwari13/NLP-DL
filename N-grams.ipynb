{
 "cells": [
  {
   "cell_type": "code",
   "execution_count": 10,
   "metadata": {},
   "outputs": [],
   "source": [
    "#Second Important Concept Under NLP\n",
    "#### N-GRAMS ############\n",
    "'''\n",
    "probablistic language models\n",
    "Computing the probablity of occurence of sentence or sequence thsn the other\n",
    "conditional probablity of lastword given the previous words P(w(N)|w(1),w(2),w(3)...w(n-1))\n",
    "\n",
    "Use the chain rule P(x1,x2,x3..xn)=P(x1)P(x2|x1)P(x3|x1,X2)...\n",
    "Instead we use Markov assumption which says,\n",
    "We need to consider only the last few words,only the last or the second last or few from last\n",
    "P(w1,w2,w3..wn)approx=multiply(P(wi|w(i-k)...w(i-1)))\n",
    "\n",
    "\n",
    "-->The simplest approach towards this model is the Unigram Model where we use individual words of the corpus\n",
    "--> Bigram Model- predict using single previous word only\n",
    "\n",
    "And so on extend the Model to N-grams for long distance dependencies for larger sentences\n",
    " * for Bi-gram- count(w(i-1),w(i)) / count(w(i-1)) (which says of all the times we saw the word w(i-1) how many times  was it followed by w(i))\n",
    " \n",
    " *  For example lets consider the corpus \n",
    "    <s>I am ashutosh</s>\n",
    "    <s>ashutosh I am</s>\n",
    "    <s> i do not like green eggs and ham</s>\n",
    "    \n",
    "    P(I|<s>)=count(<s>|I)/count(<s>)=2/3(in corpus)\n",
    "    \n",
    "    P(ashutosh|<s>)=count(<s>|ashutosh)/count(<s>)=1/3 so on..\n",
    "In practice- these probablities are converted to log probablity \n",
    " p1Xp2Xp3Xp4=logp1+logp2+logp3+logp4\n",
    "\n",
    "\n",
    "Public sources for language Modellling:\n",
    " ---> SRILM-SRI langauge modeling toolkit\n",
    " --->Google N-gram \n",
    " ---->google book N-gram Corpus using Markov chains\n",
    "'''"
   ]
  },
  {
   "cell_type": "code",
   "execution_count": null,
   "metadata": {},
   "outputs": [],
   "source": [
    "###### STEMMING AND NORMALIZATION #######\n",
    "'''\n",
    "Normalization is implicitly defining equivalence of different terms,\n",
    "U.S.A and USA should be taken by the computer in the same way\n",
    "\n",
    "Morphemes: Small meaningful units that make up words\n",
    "-->stems=the core meaning-bearing units\n",
    "--->affixes=bits and pieces that adhere to stems\n",
    " eg dependable= stem is depend and affix is ed+able\n",
    " \n",
    "So stemming is a process of removal of such affixes to bring it to Stem \n",
    "\n",
    "compression and compressed have it stem as 'compress'\n",
    "\n",
    "We use PORTERS ALGORITHM to do this:--\n",
    "CONSONENT- a letter other than A,E,I,O<U and Y preceded by consonent\n",
    "VOWEL - any other letter\n",
    "\n",
    "(C)(VC)^m(V)\n",
    "C=string one or more consonents\n",
    "V=string of one or more vowels\n",
    "m=measure of word or word part,when in VC form\n",
    " eg\n",
    "m=0, for TREE, BY, TR\n",
    "m=1, for TRO[UB]LE,O[AT]S,TRE[ES]\n",
    "m=2, for  TRO[UB]L[ES],PR[IV][AT]E\n",
    "'''"
   ]
  },
  {
   "cell_type": "code",
   "execution_count": 8,
   "metadata": {},
   "outputs": [
    {
     "name": "stdout",
     "output_type": "stream",
     "text": [
      "[nltk_data] Downloading package punkt to /home/ashutosh/nltk_data...\n",
      "[nltk_data]   Package punkt is already up-to-date!\n",
      "It\n",
      "is\n",
      "veri\n",
      "import\n",
      "to\n",
      "be\n",
      "pythonli\n",
      "while\n",
      "you\n",
      "are\n",
      "python\n",
      "with\n",
      "python\n",
      "for\n",
      "becom\n",
      "a\n",
      "python\n"
     ]
    }
   ],
   "source": [
    "#Stemming using NLTK\n",
    "from nltk.stem import PorterStemmer\n",
    "import nltk\n",
    "nltk.download('punkt')\n",
    "from nltk.tokenize import word_tokenize\n",
    "\n",
    "ps=PorterStemmer()\n",
    "example_words=[\"python\",'pythoning',\"pythoned\",\"pythonly\",\"pythoner\"]\n",
    "\n",
    "# for w in example_words:\n",
    "#     print(ps.stem(w))\n",
    "    \n",
    "new_text=\"It is very important to be pythonly while you are pythoning with python for becoming a pythoner\"\n",
    "\n",
    "words=word_tokenize(new_text)\n",
    "\n",
    "for w in words:\n",
    "    print(ps.stem(w))"
   ]
  },
  {
   "cell_type": "code",
   "execution_count": null,
   "metadata": {},
   "outputs": [],
   "source": []
  }
 ],
 "metadata": {
  "kernelspec": {
   "display_name": "Python 3",
   "language": "python",
   "name": "python3"
  },
  "language_info": {
   "codemirror_mode": {
    "name": "ipython",
    "version": 3
   },
   "file_extension": ".py",
   "mimetype": "text/x-python",
   "name": "python",
   "nbconvert_exporter": "python",
   "pygments_lexer": "ipython3",
   "version": "3.6.3"
  }
 },
 "nbformat": 4,
 "nbformat_minor": 2
}
