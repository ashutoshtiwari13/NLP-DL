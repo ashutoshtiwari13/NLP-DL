{
 "cells": [
  {
   "cell_type": "code",
   "execution_count": null,
   "metadata": {},
   "outputs": [],
   "source": [
    "'''\n",
    "Important Concepts under NLP\n",
    "1.tf-idf \n",
    "2.N-grams\n",
    "3.Stemming\n",
    "4.Lemmatisation\n",
    "5.Cosine Similarity\n",
    "6.Bag of words\n",
    "7.Word2Vec\n",
    "8.LDA\n",
    "9.Edit Distance\n",
    "\n",
    "Exploring each of these concepts on a high level\n",
    "\n",
    "'''"
   ]
  },
  {
   "cell_type": "code",
   "execution_count": null,
   "metadata": {},
   "outputs": [],
   "source": [
    "##### TF-IDF(TERM FREQUENCY-INVERSE DOCUMENT FREQUENCY) #########\n",
    "\n",
    "'''\n",
    "All about tf-idf:\n",
    "Stands for Term Frequency and inverse document frequency. It relates to the fact that if the word frequency increases\n",
    "its weight increases(the more times a term occurs in a document).It contains an offset which helps it to distinguish \n",
    "between important words and really common words like 'a','the'.\n",
    "\n",
    "Roughly,tf-idf(t,D)= tf(t,d).idf(t,D) where\n",
    "   tf(t,D)= f(t/k) (number of times a single words appear in the document/total number of words in document)\n",
    "   idf(t,D)=log(total number of documents(N)/total number of document that contain the specific word)\n",
    "   \n",
    "   \n",
    "   say for example docA= the sky is blue , docB=the sky is not blue (for this corpus intuitively our important word \n",
    "   diffrentiating both the documents is 'not',so we perform calculation to prove this)\n",
    "   \n",
    "             tf-score                     idf-score          MultipliedFinalScore(tf.idf)\n",
    "              A  |   B                 A     |      B         \n",
    "    the       1      1               log(2/2)   log(2/2)              0\n",
    "    sky       1      1                ----do------                  --do--\n",
    "    is        1      1\n",
    "    blue      1      1\n",
    "    not       0      1               log(2/1)   log(2/1)           log(2)(More Important!!)   \n",
    "    \n",
    "    NAIVE APPROACH--\n",
    "    -->Each document is considered as a bag of words(BOW) using bowa=docA.split(\"\"),bowb=docB.split('').\n",
    "    -->Create a set of the words of each document to remove duplicates.set(bowa).union(set(bowb))=>wordset\n",
    "    -->create dictionary to keep the word count\n",
    "        forA= dict.fromkeys(wordset,0)   initilaize with 0\n",
    "        forB= dict.fromkeys(wordset,0)\n",
    "        \n",
    "        count the words and increament\n",
    "        for word in bowA:\n",
    "        forA[word]+=1\n",
    "    -->convert the lists into a dataframe to perform operations\n",
    "    \n",
    "    TF_IDF APPROACH-\n",
    "    -->matrix formed above contians equal points for pretty common words too 'the','a'\n",
    "    -->\n",
    "\n",
    "'''"
   ]
  },
  {
   "cell_type": "code",
   "execution_count": 16,
   "metadata": {},
   "outputs": [
    {
     "name": "stdout",
     "output_type": "stream",
     "text": [
      "['the', 'sky', 'is', 'blue'] ['the', 'sky', 'is', 'not', 'blue']\n"
     ]
    }
   ],
   "source": [
    "#implementing the naive approach\n",
    "doc1=\"the sky is blue\"\n",
    "doc2=\"the sky is not blue\"\n",
    "\n",
    "wordl1=doc1.split(' ')\n",
    "wordl2=doc2.split(' ')\n",
    "print(wordl1,wordl2)"
   ]
  },
  {
   "cell_type": "code",
   "execution_count": 17,
   "metadata": {},
   "outputs": [
    {
     "data": {
      "text/plain": [
       "{'blue', 'is', 'not', 'sky', 'the'}"
      ]
     },
     "execution_count": 17,
     "metadata": {},
     "output_type": "execute_result"
    }
   ],
   "source": [
    "common=set(wordl1).union(set(wordl2))\n",
    "common"
   ]
  },
  {
   "cell_type": "code",
   "execution_count": 19,
   "metadata": {},
   "outputs": [
    {
     "data": {
      "text/plain": [
       "{'not': 0, 'blue': 0, 'the': 0, 'sky': 0, 'is': 0}"
      ]
     },
     "execution_count": 19,
     "metadata": {},
     "output_type": "execute_result"
    }
   ],
   "source": [
    "assign1=dict.fromkeys(common,0)\n",
    "assign2=dict.fromkeys(common,0)\n",
    "assign1"
   ]
  },
  {
   "cell_type": "code",
   "execution_count": 20,
   "metadata": {},
   "outputs": [
    {
     "data": {
      "text/plain": [
       "{'not': 0, 'blue': 1, 'the': 1, 'sky': 1, 'is': 1}"
      ]
     },
     "execution_count": 20,
     "metadata": {},
     "output_type": "execute_result"
    }
   ],
   "source": [
    "for i in wordl1:\n",
    "    assign1[i]+=1 \n",
    "for i in wordl2:\n",
    "    assign2[i]+=1\n",
    "    \n",
    "assign1"
   ]
  },
  {
   "cell_type": "code",
   "execution_count": 24,
   "metadata": {},
   "outputs": [
    {
     "data": {
      "text/html": [
       "<div>\n",
       "<style scoped>\n",
       "    .dataframe tbody tr th:only-of-type {\n",
       "        vertical-align: middle;\n",
       "    }\n",
       "\n",
       "    .dataframe tbody tr th {\n",
       "        vertical-align: top;\n",
       "    }\n",
       "\n",
       "    .dataframe thead th {\n",
       "        text-align: right;\n",
       "    }\n",
       "</style>\n",
       "<table border=\"1\" class=\"dataframe\">\n",
       "  <thead>\n",
       "    <tr style=\"text-align: right;\">\n",
       "      <th></th>\n",
       "      <th>blue</th>\n",
       "      <th>is</th>\n",
       "      <th>not</th>\n",
       "      <th>sky</th>\n",
       "      <th>the</th>\n",
       "    </tr>\n",
       "  </thead>\n",
       "  <tbody>\n",
       "    <tr>\n",
       "      <th>0</th>\n",
       "      <td>1</td>\n",
       "      <td>1</td>\n",
       "      <td>0</td>\n",
       "      <td>1</td>\n",
       "      <td>1</td>\n",
       "    </tr>\n",
       "    <tr>\n",
       "      <th>1</th>\n",
       "      <td>1</td>\n",
       "      <td>1</td>\n",
       "      <td>1</td>\n",
       "      <td>1</td>\n",
       "      <td>1</td>\n",
       "    </tr>\n",
       "  </tbody>\n",
       "</table>\n",
       "</div>"
      ],
      "text/plain": [
       "   blue  is  not  sky  the\n",
       "0     1   1    0    1    1\n",
       "1     1   1    1    1    1"
      ]
     },
     "execution_count": 24,
     "metadata": {},
     "output_type": "execute_result"
    }
   ],
   "source": [
    "import pandas as pd\n",
    "df=pd.DataFrame([assign1,assign2])\n",
    "df"
   ]
  },
  {
   "cell_type": "code",
   "execution_count": 30,
   "metadata": {},
   "outputs": [
    {
     "data": {
      "text/plain": [
       "{'not': 0.0, 'blue': 0.25, 'the': 0.25, 'sky': 0.25, 'is': 0.25}"
      ]
     },
     "execution_count": 30,
     "metadata": {},
     "output_type": "execute_result"
    }
   ],
   "source": [
    "#TF-IDF STRATEGY IMPLEMENTATION\n",
    "def computeTF(worddict,bow):\n",
    "    tfdict={}\n",
    "    bowcount=len(bow)\n",
    "    for word,count in worddict.items():\n",
    "        tfdict[word]=count/float(bowcount)\n",
    "        \n",
    "    return tfdict  \n",
    "\n",
    "tfbow1=computeTF(assign1,wordl1)\n",
    "tfbow2=computeTF(assign2,wordl2)\n",
    "tfbow1"
   ]
  },
  {
   "cell_type": "code",
   "execution_count": 33,
   "metadata": {},
   "outputs": [
    {
     "data": {
      "text/plain": [
       "{'not': 0.6931471805599453, 'blue': 0.0, 'the': 0.0, 'sky': 0.0, 'is': 0.0}"
      ]
     },
     "execution_count": 33,
     "metadata": {},
     "output_type": "execute_result"
    }
   ],
   "source": [
    "def computeIDF(doclist):\n",
    "    import math\n",
    "    idfdict={}\n",
    "    N=len(doclist)\n",
    "    \n",
    "    #count the number of documents that contain a word w\n",
    "    idfdict=dict.fromkeys(doclist[0].keys(),0)\n",
    "    for doc in doclist:\n",
    "        for word,val in doc.items():\n",
    "            if val>0:\n",
    "                idfdict[word]+=1\n",
    "    for word,val in idfdict.items():\n",
    "        idfdict[word]=math.log(N/float(val))\n",
    "        \n",
    "    return idfdict      \n",
    "\n",
    "idfs=computeIDF([assign1,assign2])\n",
    "idfs"
   ]
  },
  {
   "cell_type": "code",
   "execution_count": 35,
   "metadata": {},
   "outputs": [
    {
     "data": {
      "text/plain": [
       "{'not': 0.0, 'blue': 0.0, 'the': 0.0, 'sky': 0.0, 'is': 0.0}"
      ]
     },
     "execution_count": 35,
     "metadata": {},
     "output_type": "execute_result"
    }
   ],
   "source": [
    "def computeTFIDF(tfbow,idfs):\n",
    "    tfidf={}\n",
    "    for word,val in tfbow.items():\n",
    "        tfidf[word]=val*idfs[word]\n",
    "    return tfidf\n",
    "\n",
    "tfidfbow1=computeTFIDF(tfbow1,idfs)\n",
    "tfidfbow2=computeTFIDF(tfbow2,idfs)      "
   ]
  },
  {
   "cell_type": "code",
   "execution_count": 36,
   "metadata": {},
   "outputs": [
    {
     "data": {
      "text/html": [
       "<div>\n",
       "<style scoped>\n",
       "    .dataframe tbody tr th:only-of-type {\n",
       "        vertical-align: middle;\n",
       "    }\n",
       "\n",
       "    .dataframe tbody tr th {\n",
       "        vertical-align: top;\n",
       "    }\n",
       "\n",
       "    .dataframe thead th {\n",
       "        text-align: right;\n",
       "    }\n",
       "</style>\n",
       "<table border=\"1\" class=\"dataframe\">\n",
       "  <thead>\n",
       "    <tr style=\"text-align: right;\">\n",
       "      <th></th>\n",
       "      <th>blue</th>\n",
       "      <th>is</th>\n",
       "      <th>not</th>\n",
       "      <th>sky</th>\n",
       "      <th>the</th>\n",
       "    </tr>\n",
       "  </thead>\n",
       "  <tbody>\n",
       "    <tr>\n",
       "      <th>0</th>\n",
       "      <td>0.0</td>\n",
       "      <td>0.0</td>\n",
       "      <td>0.000000</td>\n",
       "      <td>0.0</td>\n",
       "      <td>0.0</td>\n",
       "    </tr>\n",
       "    <tr>\n",
       "      <th>1</th>\n",
       "      <td>0.0</td>\n",
       "      <td>0.0</td>\n",
       "      <td>0.138629</td>\n",
       "      <td>0.0</td>\n",
       "      <td>0.0</td>\n",
       "    </tr>\n",
       "  </tbody>\n",
       "</table>\n",
       "</div>"
      ],
      "text/plain": [
       "   blue   is       not  sky  the\n",
       "0   0.0  0.0  0.000000  0.0  0.0\n",
       "1   0.0  0.0  0.138629  0.0  0.0"
      ]
     },
     "execution_count": 36,
     "metadata": {},
     "output_type": "execute_result"
    }
   ],
   "source": [
    "import pandas as pd\n",
    "pd.DataFrame([tfidfbow1,tfidfbow2])"
   ]
  },
  {
   "cell_type": "code",
   "execution_count": null,
   "metadata": {},
   "outputs": [],
   "source": []
  }
 ],
 "metadata": {
  "kernelspec": {
   "display_name": "Python 3",
   "language": "python",
   "name": "python3"
  },
  "language_info": {
   "codemirror_mode": {
    "name": "ipython",
    "version": 3
   },
   "file_extension": ".py",
   "mimetype": "text/x-python",
   "name": "python",
   "nbconvert_exporter": "python",
   "pygments_lexer": "ipython3",
   "version": "3.6.3"
  }
 },
 "nbformat": 4,
 "nbformat_minor": 2
}
